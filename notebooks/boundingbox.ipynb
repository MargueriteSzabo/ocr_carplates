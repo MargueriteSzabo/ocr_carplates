{
 "cells": [
  {
   "cell_type": "code",
   "execution_count": 2,
   "metadata": {},
   "outputs": [],
   "source": [
    "import pandas as pd\n",
    "import numpy as np\n",
    "import cv2\n",
    "from PIL import Image\n"
   ]
  },
  {
   "cell_type": "code",
   "execution_count": 12,
   "metadata": {},
   "outputs": [],
   "source": [
    "# open the image\n",
    "im = Image.open(\"../data/train/0.jpg\")\n",
    "\n",
    "# Reading an image in default mode\n",
    "image = cv2.imread(\"../data/train/0.jpg\")\n",
    "\n",
    "# Window name in which image is displayed\n",
    "window_name = 'Image'\n"
   ]
  },
  {
   "cell_type": "code",
   "execution_count": 3,
   "metadata": {},
   "outputs": [],
   "source": [
    "x_0 = 180\n",
    "x_1 = 598\n",
    "y_0 = 889\n",
    "y_1 = 1056"
   ]
  },
  {
   "cell_type": "code",
   "execution_count": 8,
   "metadata": {},
   "outputs": [],
   "source": [
    "image = cv2.imread(\"../data/train/0.jpg\")\n",
    "window_name = 'Image'\n",
    "\n",
    "#shows the image# Start coordinate, here (5, 5)\n",
    "# represents the top left corner of rectangle\n",
    "start_point = (180, 889)\n",
    "\n",
    "# Ending coordinate, here (220, 220)\n",
    "# represents the bottom right corner of rectangle\n",
    "end_point = (598, 1056)\n",
    "\n",
    "# Blue color in BGR\n",
    "color = (255, 0, 0)\n",
    "\n",
    "# Line thickness of 2 px\n",
    "thickness = 10\n",
    "\n",
    "# Using cv2.rectangle() method\n",
    "# Draw a rectangle with blue line borders of thickness of 2 px\n",
    "image = cv2.rectangle(image, start_point, end_point, color, thickness)\n",
    "\n",
    "# Displaying the image\n",
    "#cv2.imshow(window_name , image)\n",
    "PIL_image = Image.fromarray(np.uint8(image)).convert('RGB')\n",
    "PIL_image.show()"
   ]
  },
  {
   "cell_type": "code",
   "execution_count": 17,
   "metadata": {},
   "outputs": [],
   "source": []
  },
  {
   "cell_type": "code",
   "execution_count": null,
   "metadata": {},
   "outputs": [],
   "source": []
  }
 ],
 "metadata": {
  "kernelspec": {
   "display_name": "lewagon-3-10",
   "language": "python",
   "name": "python3"
  },
  "language_info": {
   "codemirror_mode": {
    "name": "ipython",
    "version": 3
   },
   "file_extension": ".py",
   "mimetype": "text/x-python",
   "name": "python",
   "nbconvert_exporter": "python",
   "pygments_lexer": "ipython3",
   "version": "3.10.6"
  }
 },
 "nbformat": 4,
 "nbformat_minor": 2
}
